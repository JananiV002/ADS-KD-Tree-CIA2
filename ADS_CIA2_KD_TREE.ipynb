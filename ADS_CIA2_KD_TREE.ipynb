{
  "nbformat": 4,
  "nbformat_minor": 0,
  "metadata": {
    "colab": {
      "provenance": []
    },
    "kernelspec": {
      "name": "python3",
      "display_name": "Python 3"
    },
    "language_info": {
      "name": "python"
    }
  },
  "cells": [
    {
      "cell_type": "code",
      "execution_count": 7,
      "metadata": {
        "colab": {
          "base_uri": "https://localhost:8080/"
        },
        "id": "NHRYaFhkCI8a",
        "outputId": "91739256-3f42-421b-a982-a7a5998b19b0"
      },
      "outputs": [
        {
          "output_type": "stream",
          "name": "stdout",
          "text": [
            "Nearest neighbor to Point(x=5, y=9) is Point(x=4, y=7)\n",
            "\n",
            "--- Time and Space Complexity ---\n",
            "Number of points (n): 6\n",
            "Build Time Complexity: O(n log n)\n",
            "Search Time Complexity (average): O(log n)\n",
            "Search Time Complexity (worst case): O(n)\n",
            "Space Complexity: O(n)\n"
          ]
        }
      ],
      "source": [
        "from collections import namedtuple\n",
        "\n",
        "# Define a 2D point\n",
        "Point = namedtuple('Point', ['x', 'y'])\n",
        "\n",
        "# KD-Tree Node\n",
        "class KDNode:\n",
        "    def __init__(self, point, axis, left=None, right=None):\n",
        "        self.point = point      # The (x, y) point\n",
        "        self.axis = axis        # Splitting axis: 0 = x, 1 = y\n",
        "        self.left = left        # Left subtree\n",
        "        self.right = right      # Right subtree\n",
        "\n",
        "# Function to build the KD-Tree\n",
        "def build_kdtree(points, depth=0):\n",
        "    if not points:\n",
        "        return None\n",
        "\n",
        "    k = 2  # number of dimensions\n",
        "    axis = depth % k\n",
        "\n",
        "    # Sort points and choose median as root\n",
        "    points.sort(key=lambda point: point[axis])\n",
        "    median = len(points) // 2\n",
        "\n",
        "    return KDNode(\n",
        "        point=points[median],\n",
        "        axis=axis,\n",
        "        left=build_kdtree(points[:median], depth + 1),\n",
        "        right=build_kdtree(points[median + 1:], depth + 1)\n",
        "    )\n",
        "\n",
        "# Function to search nearest neighbor\n",
        "def nearest_neighbor(root, target, depth=0, best=None):\n",
        "    if root is None:\n",
        "        return best\n",
        "\n",
        "    axis = depth % 2\n",
        "\n",
        "    # Choose branch to search\n",
        "    if target[axis] < root.point[axis]:\n",
        "        next_branch = root.left\n",
        "        opposite_branch = root.right\n",
        "    else:\n",
        "        next_branch = root.right\n",
        "        opposite_branch = root.left\n",
        "\n",
        "    # Update best point so far\n",
        "    best = nearer_point(target, best, root.point)\n",
        "    best = nearest_neighbor(next_branch, target, depth + 1, best)\n",
        "\n",
        "    # Check if we need to explore opposite branch\n",
        "    if abs(target[axis] - root.point[axis]) < distance_squared(target, best)**0.5:\n",
        "        best = nearest_neighbor(opposite_branch, target, depth + 1, best)\n",
        "\n",
        "    return best\n",
        "\n",
        "# Helper function to compute squared Euclidean distance\n",
        "def distance_squared(p1, p2):\n",
        "    return (p1[0] - p2[0])**2 + (p1[1] - p2[1])**2\n",
        "\n",
        "# Helper to decide which point is closer\n",
        "def nearer_point(target, p1, p2):\n",
        "    if p1 is None:\n",
        "        return p2\n",
        "    if p2 is None:\n",
        "        return p1\n",
        "    return p1 if distance_squared(target, p1) < distance_squared(target, p2) else p2\n",
        "\n",
        "# Example usage\n",
        "points = [Point(2, 3), Point(5, 4), Point(9, 6), Point(4, 7), Point(8, 1), Point(7, 2)]\n",
        "kdtree = build_kdtree(points)\n",
        "target = Point(5, 9)\n",
        "closest = nearest_neighbor(kdtree, target)\n",
        "\n",
        "# Output the result\n",
        "print(\"Nearest neighbor to\", target, \"is\", closest)\n",
        "\n",
        "# Print Time & Space Complexity Info\n",
        "n = len(points)\n",
        "print(\"\\n--- Time and Space Complexity ---\")\n",
        "print(f\"Number of points (n): {n}\")\n",
        "print(\"Build Time Complexity: O(n log n)\")\n",
        "print(\"Search Time Complexity (average): O(log n)\")\n",
        "print(\"Search Time Complexity (worst case): O(n)\")\n",
        "print(\"Space Complexity: O(n)\")\n"
      ]
    }
  ]
}